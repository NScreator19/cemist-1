{
  "nbformat": 4,
  "nbformat_minor": 0,
  "metadata": {
    "colab": {
      "provenance": [],
      "authorship_tag": "ABX9TyOHsQgbVsR0UR7NKZG8LFuT",
      "include_colab_link": true
    },
    "kernelspec": {
      "name": "python3",
      "display_name": "Python 3"
    },
    "language_info": {
      "name": "python"
    }
  },
  "cells": [
    {
      "cell_type": "markdown",
      "metadata": {
        "id": "view-in-github",
        "colab_type": "text"
      },
      "source": [
        "<a href=\"https://colab.research.google.com/github/NScreator19/cemist-1/blob/main/Cemist7.ipynb\" target=\"_parent\"><img src=\"https://colab.research.google.com/assets/colab-badge.svg\" alt=\"Open In Colab\"/></a>"
      ]
    },
    {
      "cell_type": "code",
      "execution_count": null,
      "metadata": {
        "colab": {
          "base_uri": "https://localhost:8080/",
          "height": 384
        },
        "id": "HhAPlnjTjqrb",
        "outputId": "2fdac78e-2f69-4d94-d27e-4c71add728b6"
      },
      "outputs": [
        {
          "output_type": "error",
          "ename": "ModuleNotFoundError",
          "evalue": "No module named 'streamlit'",
          "traceback": [
            "\u001b[0;31m---------------------------------------------------------------------------\u001b[0m",
            "\u001b[0;31mModuleNotFoundError\u001b[0m                       Traceback (most recent call last)",
            "\u001b[0;32m<ipython-input-1-1398f85ee906>\u001b[0m in \u001b[0;36m<cell line: 0>\u001b[0;34m()\u001b[0m\n\u001b[0;32m----> 1\u001b[0;31m \u001b[0;32mimport\u001b[0m \u001b[0mstreamlit\u001b[0m \u001b[0;32mas\u001b[0m \u001b[0mst\u001b[0m\u001b[0;34m\u001b[0m\u001b[0;34m\u001b[0m\u001b[0m\n\u001b[0m\u001b[1;32m      2\u001b[0m \u001b[0;32mimport\u001b[0m \u001b[0mpandas\u001b[0m \u001b[0;32mas\u001b[0m \u001b[0mpd\u001b[0m\u001b[0;34m\u001b[0m\u001b[0;34m\u001b[0m\u001b[0m\n\u001b[1;32m      3\u001b[0m \u001b[0;34m\u001b[0m\u001b[0m\n\u001b[1;32m      4\u001b[0m \u001b[0;31m# Data awal dari gambar\u001b[0m\u001b[0;34m\u001b[0m\u001b[0;34m\u001b[0m\u001b[0m\n\u001b[1;32m      5\u001b[0m data = {\n",
            "\u001b[0;31mModuleNotFoundError\u001b[0m: No module named 'streamlit'",
            "",
            "\u001b[0;31m---------------------------------------------------------------------------\u001b[0;32m\nNOTE: If your import is failing due to a missing package, you can\nmanually install dependencies using either !pip or !apt.\n\nTo view examples of installing some common dependencies, click the\n\"Open Examples\" button below.\n\u001b[0;31m---------------------------------------------------------------------------\u001b[0m\n"
          ],
          "errorDetails": {
            "actions": [
              {
                "action": "open_url",
                "actionText": "Open Examples",
                "url": "/notebooks/snippets/importing_libraries.ipynb"
              }
            ]
          }
        }
      ],
      "source": [
        "import streamlit as st\n",
        "import pandas as pd\n",
        "\n",
        "st.title(\"CEMIST - Cement Emission Simulation and Tracking\")\n",
        "\n",
        "# --- Data Awal\n",
        "data = {\n",
        "    \"Cement type\": [\n",
        "        \"NAR1 PCC (Transisi)\", \"NAR1 OPC\", \"NAR1 OPC - SG\", \"NAR1 RFP\", \"NAR1 OWC\", \"NAR1 Type V\", \"NAR1 PwrPro\",\n",
        "        \"NAR2 PCC Regular\", \"NAR2 RFP\", \"NAR2 PwrPro\",\n",
        "        \"CIL PCC\",\n",
        "        \"TQ1 PCC (Transisi)\", \"TQ1 OPC - SG\", \"TQ1 RFP\", \"TQ1 Type V\",\n",
        "        \"TQ2 PCC Regular\", \"TQ2 Type V\", \"TQ2 RFP\", \"TQ2 OPC\", \"TQ2 PCC (Transisi)\",\n",
        "        \"LHO PCC Regular\", \"LHO OPC\"\n",
        "    ],\n",
        "    \"Clinker Consumption (ton)\": [\n",
        "        82808, 192961, 571231, 1050785, 48943, 20070, 124720,\n",
        "        1469132, 45949, 0,\n",
        "        1440053,\n",
        "        79722, 0, 226564, 363551,\n",
        "        487608, 0, 226564, 305894, 0,\n",
        "        640132, 283590\n",
        "    ],\n",
        "    \"Cement Production (ton)\": [\n",
        "        93568, 203975, 649126, 1203648, 50770, 21581, 178172,\n",
        "        2532986, 50428, 0,\n",
        "        2482850,\n",
        "        94029, 0, 260539, 380682,\n",
        "        777580, 0, 260539, 338676, 0,\n",
        "        1094242, 331684\n",
        "    ]\n",
        "}\n",
        "\n",
        "# --- Inisialisasi DataFrame\n",
        "df = pd.DataFrame(data)\n",
        "df[\"Clinker Factor (%)\"] = (df[\"Clinker Consumption (ton)\"] / df[\"Cement Production (ton)\"]) * 100\n",
        "df = df.fillna(0)\n",
        "\n",
        "# --- Hitung Total Awal\n",
        "total_clinker_awal = df[\"Clinker Consumption (ton)\"].sum()\n",
        "total_cement = df[\"Cement Production (ton)\"].sum()\n",
        "cf_awal = total_clinker_awal / total_cement * 100\n",
        "\n",
        "st.write(f\"**Clinker Factor Konsolidasi Saat Ini: {cf_awal:.2f}%**\")\n",
        "\n",
        "# --- Input User\n",
        "cf_target = st.number_input(\"🎯 Masukkan target Clinker Factor Konsolidasi (%):\", min_value=0.0, max_value=100.0, value=68.00)\n",
        "\n",
        "semen_dipilih = st.multiselect(\n",
        "    \"🛠️ Pilih tipe semen yang akan disesuaikan konsumsi klinkernya:\",\n",
        "    df[\"Cement type\"].tolist()\n",
        ")\n",
        "\n",
        "# --- Proses Kalkulasi jika ada input\n",
        "if cf_target and semen_dipilih:\n",
        "    # Target total clinker yang diinginkan\n",
        "    clinker_total_target = (cf_target / 100) * total_cement\n",
        "    gap = clinker_total_target - total_clinker_awal\n",
        "\n",
        "    # Ambil hanya semen yang dipilih\n",
        "    df_selected = df[df[\"Cement type\"].isin(semen_dipilih)].copy()\n",
        "    total_cement_selected = df_selected[\"Cement Production (ton)\"].sum()\n",
        "\n",
        "    # Distribusi gap secara proporsional\n",
        "    df_selected[\"Clinker Adjustment\"] = df_selected[\"Cement Production (ton)\"] / total_cement_selected * gap\n",
        "    df_selected[\"Clinker Baru\"] = df_selected[\"Clinker Consumption (ton)\"] + df_selected[\"Clinker Adjustment\"]\n",
        "    df_selected[\"CF Baru (%)\"] = df_selected[\"Clinker Baru\"] / df_selected[\"Cement Production (ton)\"] * 100\n",
        "\n",
        "    # --- Simpan Data Sebelum & Sesudah untuk Display\n",
        "    df_sebelum = df[df[\"Cement type\"].isin(semen_dipilih)][[\n",
        "        \"Cement type\", \"Cement Production (ton)\", \"Clinker Consumption (ton)\", \"Clinker Factor (%)\"\n",
        "    ]].copy()\n",
        "\n",
        "    df_sesudah = df_selected[[\n",
        "        \"Cement type\", \"Cement Production (ton)\", \"Clinker Baru\", \"CF Baru (%)\"\n",
        "    ]].copy()\n",
        "    df_sesudah.rename(columns={\n",
        "        \"Clinker Baru\": \"Clinker Consumption (ton)\",\n",
        "        \"CF Baru (%)\": \"Clinker Factor (%)\"\n",
        "    }, inplace=True)\n",
        "\n",
        "    # Update df_result untuk semua semen\n",
        "    df_result = df.copy()\n",
        "    for idx, row in df_selected.iterrows():\n",
        "        df_result.loc[df_result[\"Cement type\"] == row[\"Cement type\"], \"Clinker Consumption (ton)\"] = row[\"Clinker Baru\"]\n",
        "        df_result.loc[df_result[\"Cement type\"] == row[\"Cement type\"], \"Clinker Factor (%)\"] = row[\"CF Baru (%)\"]\n",
        "\n",
        "    cf_final = df_result[\"Clinker Consumption (ton)\"].sum() / total_cement * 100\n",
        "\n",
        "    # --- Output Tabel Sebelum\n",
        "    st.subheader(\"📋 Kondisi Sebelum (Semen yang Dipilih)\")\n",
        "    st.dataframe(df_sebelum.style.format({\n",
        "        \"Clinker Factor (%)\": \"{:.2f}\",\n",
        "        \"Clinker Consumption (ton)\": \"{:,.0f}\"\n",
        "    }))\n",
        "\n",
        "    # --- Output Tabel Sesudah\n",
        "    st.subheader(\"📊 Kondisi Setelah Penyesuaian (Semen yang Dipilih)\")\n",
        "    st.dataframe(df_sesudah.style.format({\n",
        "        \"Clinker Factor (%)\": \"{:.2f}\",\n",
        "        \"Clinker Consumption (ton)\": \"{:,.0f}\"\n",
        "    }))\n",
        "\n",
        "    # --- Output Total Final\n",
        "    st.subheader(\"📈 Ringkasan Akhir (Semua Semen)\")\n",
        "    st.write(f\"**Clinker Factor Konsolidasi Baru: {cf_final:.2f}%**\")\n",
        "    st.dataframe(df_result.style.format({\n",
        "        \"Clinker Factor (%)\": \"{:.2f}\",\n",
        "        \"Clinker Consumption (ton)\": \"{:,.0f}\"\n",
        "    }))\n"
      ]
    }
  ]
}